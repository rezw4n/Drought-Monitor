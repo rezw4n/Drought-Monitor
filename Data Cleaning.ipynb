{
 "cells": [
  {
   "cell_type": "code",
   "execution_count": 1,
   "id": "25107215-ea4a-472e-b452-950bc6bef354",
   "metadata": {},
   "outputs": [],
   "source": [
    "import pandas as pd\n",
    "import geopandas as gpd"
   ]
  },
  {
   "cell_type": "code",
   "execution_count": 2,
   "id": "37446ccf-a9e4-424c-b9b1-ded9e46a7b35",
   "metadata": {},
   "outputs": [],
   "source": [
    "gdf = gpd.read_file('./USDM 2020/USDM 2020.shp')"
   ]
  },
  {
   "cell_type": "code",
   "execution_count": 3,
   "id": "eddf2e2d-65dd-4a12-a176-9c5a39a29a2b",
   "metadata": {},
   "outputs": [
    {
     "data": {
      "text/html": [
       "<div>\n",
       "<style scoped>\n",
       "    .dataframe tbody tr th:only-of-type {\n",
       "        vertical-align: middle;\n",
       "    }\n",
       "\n",
       "    .dataframe tbody tr th {\n",
       "        vertical-align: top;\n",
       "    }\n",
       "\n",
       "    .dataframe thead th {\n",
       "        text-align: right;\n",
       "    }\n",
       "</style>\n",
       "<table border=\"1\" class=\"dataframe\">\n",
       "  <thead>\n",
       "    <tr style=\"text-align: right;\">\n",
       "      <th></th>\n",
       "      <th>DM</th>\n",
       "      <th>Shape_Leng</th>\n",
       "      <th>Shape_Area</th>\n",
       "      <th>layer</th>\n",
       "      <th>geometry</th>\n",
       "    </tr>\n",
       "  </thead>\n",
       "  <tbody>\n",
       "    <tr>\n",
       "      <th>0</th>\n",
       "      <td>0</td>\n",
       "      <td>5.290406e+07</td>\n",
       "      <td>1.090511e+12</td>\n",
       "      <td>USDM_20200107</td>\n",
       "      <td>MULTIPOLYGON (((3035637.551 -2054754.639, 3035...</td>\n",
       "    </tr>\n",
       "    <tr>\n",
       "      <th>1</th>\n",
       "      <td>1</td>\n",
       "      <td>2.251269e+07</td>\n",
       "      <td>6.363360e+11</td>\n",
       "      <td>USDM_20200107</td>\n",
       "      <td>MULTIPOLYGON (((3159349.973 -1982198.834, 3160...</td>\n",
       "    </tr>\n",
       "    <tr>\n",
       "      <th>2</th>\n",
       "      <td>2</td>\n",
       "      <td>8.760369e+06</td>\n",
       "      <td>2.426855e+11</td>\n",
       "      <td>USDM_20200107</td>\n",
       "      <td>MULTIPOLYGON (((-270198.291 -1497286.046, -264...</td>\n",
       "    </tr>\n",
       "    <tr>\n",
       "      <th>3</th>\n",
       "      <td>3</td>\n",
       "      <td>6.979721e+05</td>\n",
       "      <td>9.226889e+09</td>\n",
       "      <td>USDM_20200107</td>\n",
       "      <td>MULTIPOLYGON (((-383208.046 -1211056.297, -368...</td>\n",
       "    </tr>\n",
       "    <tr>\n",
       "      <th>4</th>\n",
       "      <td>4</td>\n",
       "      <td>2.864648e+04</td>\n",
       "      <td>3.624351e+07</td>\n",
       "      <td>USDM_20200107</td>\n",
       "      <td>POLYGON ((-5860708.526 -292051.252, -5860509.7...</td>\n",
       "    </tr>\n",
       "  </tbody>\n",
       "</table>\n",
       "</div>"
      ],
      "text/plain": [
       "   DM    Shape_Leng    Shape_Area          layer  \\\n",
       "0   0  5.290406e+07  1.090511e+12  USDM_20200107   \n",
       "1   1  2.251269e+07  6.363360e+11  USDM_20200107   \n",
       "2   2  8.760369e+06  2.426855e+11  USDM_20200107   \n",
       "3   3  6.979721e+05  9.226889e+09  USDM_20200107   \n",
       "4   4  2.864648e+04  3.624351e+07  USDM_20200107   \n",
       "\n",
       "                                            geometry  \n",
       "0  MULTIPOLYGON (((3035637.551 -2054754.639, 3035...  \n",
       "1  MULTIPOLYGON (((3159349.973 -1982198.834, 3160...  \n",
       "2  MULTIPOLYGON (((-270198.291 -1497286.046, -264...  \n",
       "3  MULTIPOLYGON (((-383208.046 -1211056.297, -368...  \n",
       "4  POLYGON ((-5860708.526 -292051.252, -5860509.7...  "
      ]
     },
     "execution_count": 3,
     "metadata": {},
     "output_type": "execute_result"
    }
   ],
   "source": [
    "gdf.head()"
   ]
  },
  {
   "cell_type": "code",
   "execution_count": 4,
   "id": "896168cf-9a1e-457f-8d55-b3cd1c1981b5",
   "metadata": {},
   "outputs": [],
   "source": [
    "gdf['date'] = gdf['layer'].str.extract('(\\d+)')"
   ]
  },
  {
   "cell_type": "code",
   "execution_count": 5,
   "id": "78caa56b-fe5f-417b-b1b3-8ff32c4ae80a",
   "metadata": {},
   "outputs": [],
   "source": [
    "gdf['date'] = pd.to_datetime(gdf['date']).dt.strftime('%d %B, %Y')"
   ]
  },
  {
   "cell_type": "code",
   "execution_count": 6,
   "id": "21c7bb78-410c-4cd3-9216-b160a01d6c07",
   "metadata": {},
   "outputs": [
    {
     "data": {
      "text/html": [
       "<div>\n",
       "<style scoped>\n",
       "    .dataframe tbody tr th:only-of-type {\n",
       "        vertical-align: middle;\n",
       "    }\n",
       "\n",
       "    .dataframe tbody tr th {\n",
       "        vertical-align: top;\n",
       "    }\n",
       "\n",
       "    .dataframe thead th {\n",
       "        text-align: right;\n",
       "    }\n",
       "</style>\n",
       "<table border=\"1\" class=\"dataframe\">\n",
       "  <thead>\n",
       "    <tr style=\"text-align: right;\">\n",
       "      <th></th>\n",
       "      <th>DM</th>\n",
       "      <th>Shape_Leng</th>\n",
       "      <th>Shape_Area</th>\n",
       "      <th>layer</th>\n",
       "      <th>geometry</th>\n",
       "      <th>date</th>\n",
       "    </tr>\n",
       "  </thead>\n",
       "  <tbody>\n",
       "    <tr>\n",
       "      <th>0</th>\n",
       "      <td>0</td>\n",
       "      <td>5.290406e+07</td>\n",
       "      <td>1.090511e+12</td>\n",
       "      <td>USDM_20200107</td>\n",
       "      <td>MULTIPOLYGON (((3035637.551 -2054754.639, 3035...</td>\n",
       "      <td>07 January, 2020</td>\n",
       "    </tr>\n",
       "    <tr>\n",
       "      <th>1</th>\n",
       "      <td>1</td>\n",
       "      <td>2.251269e+07</td>\n",
       "      <td>6.363360e+11</td>\n",
       "      <td>USDM_20200107</td>\n",
       "      <td>MULTIPOLYGON (((3159349.973 -1982198.834, 3160...</td>\n",
       "      <td>07 January, 2020</td>\n",
       "    </tr>\n",
       "    <tr>\n",
       "      <th>2</th>\n",
       "      <td>2</td>\n",
       "      <td>8.760369e+06</td>\n",
       "      <td>2.426855e+11</td>\n",
       "      <td>USDM_20200107</td>\n",
       "      <td>MULTIPOLYGON (((-270198.291 -1497286.046, -264...</td>\n",
       "      <td>07 January, 2020</td>\n",
       "    </tr>\n",
       "    <tr>\n",
       "      <th>3</th>\n",
       "      <td>3</td>\n",
       "      <td>6.979721e+05</td>\n",
       "      <td>9.226889e+09</td>\n",
       "      <td>USDM_20200107</td>\n",
       "      <td>MULTIPOLYGON (((-383208.046 -1211056.297, -368...</td>\n",
       "      <td>07 January, 2020</td>\n",
       "    </tr>\n",
       "    <tr>\n",
       "      <th>4</th>\n",
       "      <td>4</td>\n",
       "      <td>2.864648e+04</td>\n",
       "      <td>3.624351e+07</td>\n",
       "      <td>USDM_20200107</td>\n",
       "      <td>POLYGON ((-5860708.526 -292051.252, -5860509.7...</td>\n",
       "      <td>07 January, 2020</td>\n",
       "    </tr>\n",
       "  </tbody>\n",
       "</table>\n",
       "</div>"
      ],
      "text/plain": [
       "   DM    Shape_Leng    Shape_Area          layer  \\\n",
       "0   0  5.290406e+07  1.090511e+12  USDM_20200107   \n",
       "1   1  2.251269e+07  6.363360e+11  USDM_20200107   \n",
       "2   2  8.760369e+06  2.426855e+11  USDM_20200107   \n",
       "3   3  6.979721e+05  9.226889e+09  USDM_20200107   \n",
       "4   4  2.864648e+04  3.624351e+07  USDM_20200107   \n",
       "\n",
       "                                            geometry              date  \n",
       "0  MULTIPOLYGON (((3035637.551 -2054754.639, 3035...  07 January, 2020  \n",
       "1  MULTIPOLYGON (((3159349.973 -1982198.834, 3160...  07 January, 2020  \n",
       "2  MULTIPOLYGON (((-270198.291 -1497286.046, -264...  07 January, 2020  \n",
       "3  MULTIPOLYGON (((-383208.046 -1211056.297, -368...  07 January, 2020  \n",
       "4  POLYGON ((-5860708.526 -292051.252, -5860509.7...  07 January, 2020  "
      ]
     },
     "execution_count": 6,
     "metadata": {},
     "output_type": "execute_result"
    }
   ],
   "source": [
    "gdf.head()"
   ]
  },
  {
   "cell_type": "code",
   "execution_count": 7,
   "id": "0450bb31-ee18-47be-9b62-ee0d57cb96cc",
   "metadata": {},
   "outputs": [],
   "source": [
    "gdf.to_file('./Cleaned/USDM_2020.shp')"
   ]
  }
 ],
 "metadata": {
  "kernelspec": {
   "display_name": "Python 3 (ipykernel)",
   "language": "python",
   "name": "python3"
  },
  "language_info": {
   "codemirror_mode": {
    "name": "ipython",
    "version": 3
   },
   "file_extension": ".py",
   "mimetype": "text/x-python",
   "name": "python",
   "nbconvert_exporter": "python",
   "pygments_lexer": "ipython3",
   "version": "3.8.11"
  }
 },
 "nbformat": 4,
 "nbformat_minor": 5
}
