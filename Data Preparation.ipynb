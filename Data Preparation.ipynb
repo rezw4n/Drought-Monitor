{
 "cells": [
  {
   "cell_type": "markdown",
   "id": "ee9ca3b2-750c-418b-baa5-29bd7c483928",
   "metadata": {},
   "source": [
    "# Preparing the data for visualization"
   ]
  },
  {
   "cell_type": "code",
   "execution_count": 1,
   "id": "1e1c7d0c-c7fa-4b5a-9a2a-fc38113c4ed7",
   "metadata": {},
   "outputs": [],
   "source": [
    "import os\n",
    "import geopandas as gpd\n",
    "import pandas as pd"
   ]
  },
  {
   "cell_type": "markdown",
   "id": "8d376a2c-84c5-4384-b814-dadc44252c4c",
   "metadata": {},
   "source": [
    "I'll be changing my directory to the folder where I extracted the data that I downloaded from [here](https://droughtmonitor.unl.edu/DmData/GISData.aspx)"
   ]
  },
  {
   "cell_type": "code",
   "execution_count": 3,
   "id": "a6553f12-e045-4b29-b2c0-689a0822209c",
   "metadata": {},
   "outputs": [],
   "source": [
    "os.chdir('./2020_USDM_M/')"
   ]
  },
  {
   "cell_type": "markdown",
   "id": "e21c30ac-aa44-4727-9bc7-dfdaa82cc3f3",
   "metadata": {},
   "source": [
    "I'll be merging all the 52 week data in to one file because it'll be much easier to deal with one data. So I just need the shapefiles and read them with geopandas and merge it into one dataset and then save that. You can do this part with QGIS/GDAL as well from the processing toolbox."
   ]
  },
  {
   "cell_type": "code",
   "execution_count": 4,
   "id": "acee16c3-827d-4dad-9929-50e4b19fc3b0",
   "metadata": {},
   "outputs": [],
   "source": [
    "shapefiles = [i for i in os.listdir() if i.endswith('.shp')]"
   ]
  },
  {
   "cell_type": "code",
   "execution_count": 5,
   "id": "7c148438-1d89-4c63-ae95-1f7c5d8c8c3c",
   "metadata": {},
   "outputs": [
    {
     "data": {
      "text/plain": [
       "['USDM_20210105.shp',\n",
       " 'USDM_20210112.shp',\n",
       " 'USDM_20210119.shp',\n",
       " 'USDM_20210126.shp',\n",
       " 'USDM_20210202.shp',\n",
       " 'USDM_20210209.shp',\n",
       " 'USDM_20210216.shp',\n",
       " 'USDM_20210223.shp',\n",
       " 'USDM_20210302.shp',\n",
       " 'USDM_20210309.shp',\n",
       " 'USDM_20210316.shp',\n",
       " 'USDM_20210323.shp',\n",
       " 'USDM_20210330.shp',\n",
       " 'USDM_20210406.shp',\n",
       " 'USDM_20210413.shp',\n",
       " 'USDM_20210420.shp',\n",
       " 'USDM_20210427.shp',\n",
       " 'USDM_20210504.shp',\n",
       " 'USDM_20210511.shp',\n",
       " 'USDM_20210518.shp',\n",
       " 'USDM_20210525.shp',\n",
       " 'USDM_20210601.shp',\n",
       " 'USDM_20210608.shp',\n",
       " 'USDM_20210615.shp',\n",
       " 'USDM_20210622.shp',\n",
       " 'USDM_20210629.shp',\n",
       " 'USDM_20210706.shp',\n",
       " 'USDM_20210713.shp',\n",
       " 'USDM_20210720.shp',\n",
       " 'USDM_20210727.shp',\n",
       " 'USDM_20210803.shp',\n",
       " 'USDM_20210810.shp',\n",
       " 'USDM_20210817.shp',\n",
       " 'USDM_20210824.shp',\n",
       " 'USDM_20210831.shp',\n",
       " 'USDM_20210907.shp',\n",
       " 'USDM_20210914.shp',\n",
       " 'USDM_20210921.shp',\n",
       " 'USDM_20210928.shp',\n",
       " 'USDM_20211005.shp',\n",
       " 'USDM_20211012.shp',\n",
       " 'USDM_20211019.shp',\n",
       " 'USDM_20211026.shp',\n",
       " 'USDM_20211102.shp',\n",
       " 'USDM_20211109.shp',\n",
       " 'USDM_20211116.shp',\n",
       " 'USDM_20211123.shp',\n",
       " 'USDM_20211130.shp',\n",
       " 'USDM_20211207.shp',\n",
       " 'USDM_20211214.shp',\n",
       " 'USDM_20211221.shp',\n",
       " 'USDM_20211228.shp']"
      ]
     },
     "execution_count": 5,
     "metadata": {},
     "output_type": "execute_result"
    }
   ],
   "source": [
    "shapefiles"
   ]
  },
  {
   "cell_type": "markdown",
   "id": "758969b7-c564-4751-9cee-6c401d4b732c",
   "metadata": {},
   "source": [
    "Now I know none of these shapefiles contain their layer name in the attribute table. And I need to know which layer is from which date. So what I've done here is create a function that adds the layer name into a seperate column. I can use it to extract the dates with `regular expression` and put it into a new column."
   ]
  },
  {
   "cell_type": "code",
   "execution_count": 6,
   "id": "b18c7357-c8e1-4c71-81d0-d0e4e58076aa",
   "metadata": {},
   "outputs": [],
   "source": [
    "def shapefile(idx):\n",
    "    file = gpd.read_file(shapefiles[idx])\n",
    "    file['layer'] = shapefiles[idx][:-4]\n",
    "    return file"
   ]
  },
  {
   "cell_type": "markdown",
   "id": "3f6c0daf-c666-4fe6-8338-fc14fb55db8a",
   "metadata": {},
   "source": [
    "Now lets merge all the data into one data"
   ]
  },
  {
   "cell_type": "code",
   "execution_count": 7,
   "id": "71db33f0-a149-4309-ab45-d51173bab5e2",
   "metadata": {},
   "outputs": [],
   "source": [
    "gdf = gpd.GeoDataFrame(pd.concat([shapefile(i) for i in range(len(shapefiles))], ignore_index=True))"
   ]
  },
  {
   "cell_type": "code",
   "execution_count": 8,
   "id": "102c54d6-be68-4238-953b-3d666f45a401",
   "metadata": {},
   "outputs": [
    {
     "data": {
      "text/html": [
       "<div>\n",
       "<style scoped>\n",
       "    .dataframe tbody tr th:only-of-type {\n",
       "        vertical-align: middle;\n",
       "    }\n",
       "\n",
       "    .dataframe tbody tr th {\n",
       "        vertical-align: top;\n",
       "    }\n",
       "\n",
       "    .dataframe thead th {\n",
       "        text-align: right;\n",
       "    }\n",
       "</style>\n",
       "<table border=\"1\" class=\"dataframe\">\n",
       "  <thead>\n",
       "    <tr style=\"text-align: right;\">\n",
       "      <th></th>\n",
       "      <th>OBJECTID</th>\n",
       "      <th>DM</th>\n",
       "      <th>Shape_Leng</th>\n",
       "      <th>Shape_Area</th>\n",
       "      <th>geometry</th>\n",
       "      <th>layer</th>\n",
       "    </tr>\n",
       "  </thead>\n",
       "  <tbody>\n",
       "    <tr>\n",
       "      <th>0</th>\n",
       "      <td>1</td>\n",
       "      <td>0</td>\n",
       "      <td>5.980410e+07</td>\n",
       "      <td>1.367589e+12</td>\n",
       "      <td>MULTIPOLYGON (((-66.17931 18.13793, -66.18203 ...</td>\n",
       "      <td>USDM_20210105</td>\n",
       "    </tr>\n",
       "    <tr>\n",
       "      <th>1</th>\n",
       "      <td>2</td>\n",
       "      <td>1</td>\n",
       "      <td>3.797837e+07</td>\n",
       "      <td>1.004673e+12</td>\n",
       "      <td>MULTIPOLYGON (((-66.42514 18.27961, -66.46215 ...</td>\n",
       "      <td>USDM_20210105</td>\n",
       "    </tr>\n",
       "    <tr>\n",
       "      <th>2</th>\n",
       "      <td>3</td>\n",
       "      <td>2</td>\n",
       "      <td>3.480560e+07</td>\n",
       "      <td>9.194286e+11</td>\n",
       "      <td>MULTIPOLYGON (((-97.64720 26.01237, -97.64734 ...</td>\n",
       "      <td>USDM_20210105</td>\n",
       "    </tr>\n",
       "    <tr>\n",
       "      <th>3</th>\n",
       "      <td>4</td>\n",
       "      <td>3</td>\n",
       "      <td>2.485020e+07</td>\n",
       "      <td>9.067492e+11</td>\n",
       "      <td>MULTIPOLYGON (((-98.66225 26.24203, -98.66070 ...</td>\n",
       "      <td>USDM_20210105</td>\n",
       "    </tr>\n",
       "    <tr>\n",
       "      <th>4</th>\n",
       "      <td>5</td>\n",
       "      <td>4</td>\n",
       "      <td>9.430881e+06</td>\n",
       "      <td>7.372491e+11</td>\n",
       "      <td>MULTIPOLYGON (((-102.48568 38.29119, -102.6014...</td>\n",
       "      <td>USDM_20210105</td>\n",
       "    </tr>\n",
       "  </tbody>\n",
       "</table>\n",
       "</div>"
      ],
      "text/plain": [
       "   OBJECTID  DM    Shape_Leng    Shape_Area  \\\n",
       "0         1   0  5.980410e+07  1.367589e+12   \n",
       "1         2   1  3.797837e+07  1.004673e+12   \n",
       "2         3   2  3.480560e+07  9.194286e+11   \n",
       "3         4   3  2.485020e+07  9.067492e+11   \n",
       "4         5   4  9.430881e+06  7.372491e+11   \n",
       "\n",
       "                                            geometry          layer  \n",
       "0  MULTIPOLYGON (((-66.17931 18.13793, -66.18203 ...  USDM_20210105  \n",
       "1  MULTIPOLYGON (((-66.42514 18.27961, -66.46215 ...  USDM_20210105  \n",
       "2  MULTIPOLYGON (((-97.64720 26.01237, -97.64734 ...  USDM_20210105  \n",
       "3  MULTIPOLYGON (((-98.66225 26.24203, -98.66070 ...  USDM_20210105  \n",
       "4  MULTIPOLYGON (((-102.48568 38.29119, -102.6014...  USDM_20210105  "
      ]
     },
     "execution_count": 8,
     "metadata": {},
     "output_type": "execute_result"
    }
   ],
   "source": [
    "gdf.head()"
   ]
  },
  {
   "cell_type": "code",
   "execution_count": 9,
   "id": "8e8ac4e1-b636-422b-a442-ed54f7a89192",
   "metadata": {},
   "outputs": [
    {
     "data": {
      "text/plain": [
       "(260, 6)"
      ]
     },
     "execution_count": 9,
     "metadata": {},
     "output_type": "execute_result"
    }
   ],
   "source": [
    "gdf.shape"
   ]
  },
  {
   "cell_type": "code",
   "execution_count": 10,
   "id": "f582ad47-1d26-4683-a382-7b2c50c0fb08",
   "metadata": {},
   "outputs": [
    {
     "data": {
      "text/plain": [
       "<Geographic 2D CRS: EPSG:4326>\n",
       "Name: WGS 84\n",
       "Axis Info [ellipsoidal]:\n",
       "- Lat[north]: Geodetic latitude (degree)\n",
       "- Lon[east]: Geodetic longitude (degree)\n",
       "Area of Use:\n",
       "- name: World\n",
       "- bounds: (-180.0, -90.0, 180.0, 90.0)\n",
       "Datum: World Geodetic System 1984\n",
       "- Ellipsoid: WGS 84\n",
       "- Prime Meridian: Greenwich"
      ]
     },
     "execution_count": 10,
     "metadata": {},
     "output_type": "execute_result"
    }
   ],
   "source": [
    "gdf.crs"
   ]
  },
  {
   "cell_type": "markdown",
   "id": "c50662fd-4a52-4e0d-b2ab-1d12dccfe234",
   "metadata": {},
   "source": [
    "Alright! Now everything seems just the way I want it to be. However, I don't like the WGS 84 projection for USA. So I'll change the projection to *`North America Albers Equal Area Conic.`* which has the epsg code of `ESRI:102008`"
   ]
  },
  {
   "cell_type": "code",
   "execution_count": 11,
   "id": "19e64b16-5024-4cfa-b76d-ffb7b9855ca6",
   "metadata": {},
   "outputs": [],
   "source": [
    "gdf.to_crs(crs='ESRI:102008', inplace=True)"
   ]
  },
  {
   "cell_type": "markdown",
   "id": "942206b3-8c37-489f-b0d9-1ac3b8c19da3",
   "metadata": {},
   "source": [
    "Like I said, I need to know the dates of each layer. So I've extracted the dates from the layer name and put it into different column and format it in a human readable date."
   ]
  },
  {
   "cell_type": "code",
   "execution_count": 12,
   "id": "6cc05226-7020-4802-ab1c-2f730e08ff05",
   "metadata": {},
   "outputs": [],
   "source": [
    "gdf['date'] = gdf['layer'].str.extract('(\\d+)')"
   ]
  },
  {
   "cell_type": "code",
   "execution_count": 13,
   "id": "082270c1-9451-41fe-825a-564c75894d1b",
   "metadata": {},
   "outputs": [],
   "source": [
    "gdf['date'] = pd.to_datetime(gdf['date']).dt.strftime('%d %B, %Y')"
   ]
  },
  {
   "cell_type": "code",
   "execution_count": 14,
   "id": "f7834e4d-aad8-4160-a197-ac4951ca7ec7",
   "metadata": {},
   "outputs": [
    {
     "data": {
      "text/plain": [
       "<AxesSubplot:>"
      ]
     },
     "execution_count": 14,
     "metadata": {},
     "output_type": "execute_result"
    },
    {
     "data": {
      "image/png": "[encoded data removed]",
      "text/plain": [
       "<Figure size 432x288 with 1 Axes>"
      ]
     },
     "metadata": {
      "needs_background": "light"
     },
     "output_type": "display_data"
    }
   ],
   "source": [
    "gdf.plot()"
   ]
  },
  {
   "cell_type": "markdown",
   "id": "b16b4d20-b988-4301-b4cb-ae4e9ae4d3e5",
   "metadata": {},
   "source": [
    "Everyting seems to be working just the way I wanted. So I'll just export the dataframe as a shapefile and the plot each layer later!"
   ]
  },
  {
   "cell_type": "code",
   "execution_count": 15,
   "id": "07286334-44e4-4808-8dd7-776972a7fafb",
   "metadata": {},
   "outputs": [],
   "source": [
    "gdf.to_file('../Cleaned/USDM_2021.shp')"
   ]
  }
 ],
 "metadata": {
  "kernelspec": {
   "display_name": "Python 3 (ipykernel)",
   "language": "python",
   "name": "python3"
  },
  "language_info": {
   "codemirror_mode": {
    "name": "ipython",
    "version": 3
   },
   "file_extension": ".py",
   "mimetype": "text/x-python",
   "name": "python",
   "nbconvert_exporter": "python",
   "pygments_lexer": "ipython3",
   "version": "3.8.11"
  }
 },
 "nbformat": 4,
 "nbformat_minor": 5
}
